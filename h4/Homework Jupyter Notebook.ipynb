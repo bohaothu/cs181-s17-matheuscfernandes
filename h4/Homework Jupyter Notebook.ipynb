{
 "cells": [
  {
   "cell_type": "code",
   "execution_count": 1,
   "metadata": {
    "collapsed": false
   },
   "outputs": [
    {
     "name": "stdout",
     "output_type": "stream",
     "text": [
      "Populating the interactive namespace from numpy and matplotlib\n",
      "\n",
      "The scikit-learn version is 0.18.1.\n",
      "The Numpy version is 1.12.1.\n",
      "The TensorFlow version is 1.0.1.\n"
     ]
    }
   ],
   "source": [
    "import matplotlib.pyplot as plt\n",
    "import numpy.random\n",
    "import numpy as np\n",
    "import seaborn\n",
    "import sklearn as sk\n",
    "import pandas as pd\n",
    "import glob\n",
    "import os\n",
    "import tensorflow as tf\n",
    "\n",
    "%pylab inline\n",
    "\n",
    "print('\\nThe scikit-learn version is {}.'.format(sk.__version__))\n",
    "print('The Numpy version is {}.'.format(np.__version__))\n",
    "print('The TensorFlow version is {}.'.format(tf.__version__))"
   ]
  },
  {
   "cell_type": "markdown",
   "metadata": {},
   "source": [
    "# Problem 1.2"
   ]
  },
  {
   "cell_type": "code",
   "execution_count": 2,
   "metadata": {
    "collapsed": true
   },
   "outputs": [],
   "source": [
    "def L1(x1,x2):\n",
    "    return abs(x1[0]-x2[0])+abs(x1[1]-x2[1])\n",
    "def L2(x1,x2):\n",
    "    return ((x1[0]-x2[0])**2.+(x1[1]-x2[1])**2.)**(1./2.)\n",
    "def LInf(x1,x2):\n",
    "    return max([abs(x1[0]-x2[0]), abs(x1[1]-x2[1])])"
   ]
  },
  {
   "cell_type": "code",
   "execution_count": 8,
   "metadata": {
    "collapsed": false
   },
   "outputs": [],
   "source": [
    "def bmatrix(a):\n",
    "    \"\"\"Returns a LaTeX bmatrix\n",
    "\n",
    "    :a: numpy array\n",
    "    :returns: LaTeX bmatrix as a string\n",
    "    \"\"\"\n",
    "    if len(a.shape) > 2:\n",
    "        raise ValueError('bmatrix can at most display two dimensions')\n",
    "    lines = str(a).replace('[', '').replace(']', '').splitlines()\n",
    "    rv = [r'\\begin{bmatrix}']\n",
    "    rv += ['  ' + ' & '.join(l.split()) + r'\\\\' for l in lines]\n",
    "    rv +=  [r'\\end{bmatrix}']\n",
    "    return ''.join(rv)\n",
    "def bbmatrix(a):\n",
    "    \"\"\"Returns a LaTeX bmatrix\n",
    "\n",
    "    :a: numpy array\n",
    "    :returns: LaTeX bmatrix as a string\n",
    "    \"\"\"\n",
    "    if len(a.shape) > 2:\n",
    "        raise ValueError('bmatrix can at most display two dimensions')\n",
    "    lines = str(a).replace('[', '').replace(']', '').splitlines()\n",
    "    rv = [r'\\e{\\begin{bmatrix}']\n",
    "    rv +=[r' X_a & X_b & Dist \\\\']\n",
    "    rv += ['  ' + ' & '.join(l.split()) + r'\\\\' for l in lines]\n",
    "    rv +=  [r'\\end{bmatrix}}']\n",
    "    return ''.join(rv)\n",
    "\n",
    "def bbbmatrix(a):\n",
    "    \"\"\"Returns a LaTeX bmatrix\n",
    "\n",
    "    :a: numpy array\n",
    "    :returns: LaTeX bmatrix as a string\n",
    "    \"\"\"\n",
    "    if len(a.shape) > 2:\n",
    "        raise ValueError('bmatrix can at most display two dimensions')\n",
    "    lines = str(a).replace('[', '').replace(']', '').splitlines()\n",
    "    rv = [r'\\begin{bmatrix}']\n",
    "    for l in lines:\n",
    "        ct=0\n",
    "        for x in l.split():\n",
    "            ct+=1\n",
    "            if ct==1 or ct ==2:\n",
    "                rv +='  ' + ' & '.join(l.split())\n",
    "            else:\n",
    "                rv +='  ' + ' & '\n",
    "        rv += r'\\\\'\n",
    "    rv +=  [r'\\end{bmatrix}']\n",
    "    return ''.join(rv)"
   ]
  },
  {
   "cell_type": "markdown",
   "metadata": {},
   "source": [
    "## Max and Min Method"
   ]
  },
  {
   "cell_type": "code",
   "execution_count": 3,
   "metadata": {
    "collapsed": false
   },
   "outputs": [],
   "source": [
    "x1=[0.1,0.5];x2=[0.35,0.75];x3=[0.28,1.35];x4=[0,1.01]\n",
    "\n",
    "XAll=[x1,x2,x3,x4]\n",
    "XBlack=[x1,x2]\n",
    "XRed=x3\n",
    "XBlue=x4\n",
    "\n",
    "XComp=[]\n",
    "a=0;\n",
    "for xa in XAll:\n",
    "    a+=1;b=0\n",
    "    for xb in XAll:\n",
    "        b+=1\n",
    "        if xa!=xb and b>a:\n",
    "            XComp.append([a,b,LInf(xa,xb)])\n",
    "XComp=np.array(XComp)            \n"
   ]
  },
  {
   "cell_type": "code",
   "execution_count": 4,
   "metadata": {
    "collapsed": false
   },
   "outputs": [
    {
     "name": "stdout",
     "output_type": "stream",
     "text": [
      "[[ 1.    2.    0.25]\n",
      " [ 1.    3.    0.85]\n",
      " [ 1.    4.    0.51]\n",
      " [ 2.    3.    0.6 ]\n",
      " [ 2.    4.    0.35]\n",
      " [ 3.    4.    0.34]]\n"
     ]
    }
   ],
   "source": [
    "\n",
    "print XComp\n",
    "import numpy_to_latex as nl"
   ]
  },
  {
   "cell_type": "code",
   "execution_count": 7,
   "metadata": {
    "collapsed": false
   },
   "outputs": [
    {
     "name": "stdout",
     "output_type": "stream",
     "text": [
      "\\e{\\begin{bmatrix} X_a & X_b & Dist \\\\  1. & 2. & 0.25\\\\  1. & 3. & 0.85\\\\  1. & 4. & 0.51\\\\  2. & 3. & 0.6\\\\  2. & 4. & 0.35\\\\  3. & 4. & 0.34\\\\\\end{bmatrix}}\n"
     ]
    }
   ],
   "source": [
    "print bbmatrix(XComp)"
   ]
  },
  {
   "cell_type": "markdown",
   "metadata": {},
   "source": [
    "## Centroid Method"
   ]
  },
  {
   "cell_type": "code",
   "execution_count": 101,
   "metadata": {
    "collapsed": false
   },
   "outputs": [
    {
     "name": "stdout",
     "output_type": "stream",
     "text": [
      "[0.22499999999999998, 0.625]\n",
      "[[ 1.     2.     0.725]\n",
      " [ 1.     3.     0.385]\n",
      " [ 2.     3.     0.34 ]]\n",
      "\\e{\\begin{bmatrix} X_a & X_b & Dist \\\\  1. & 2. & 0.725\\\\  1. & 3. & 0.385\\\\  2. & 3. & 0.34\\\\\\end{bmatrix}}\n"
     ]
    }
   ],
   "source": [
    "MeanXBlack=[np.mean([x1[0],x2[0]]),np.mean([x1[1],x2[1]])]\n",
    "print MeanXBlack\n",
    "XAllMean=[MeanXBlack,x3,x4]\n",
    "XCompMean=[]\n",
    "a=0;\n",
    "for xa in XAllMean:\n",
    "    a+=1;b=0\n",
    "    for xb in XAllMean:\n",
    "        b+=1\n",
    "        if xa!=xb and b>a:\n",
    "            XCompMean.append([a,b,LInf(xa,xb)])\n",
    "XCompMean=np.array(XCompMean)   \n",
    "\n",
    "print XCompMean\n",
    "print bbmatrix(XCompMean)"
   ]
  },
  {
   "cell_type": "code",
   "execution_count": null,
   "metadata": {
    "collapsed": true
   },
   "outputs": [],
   "source": []
  },
  {
   "cell_type": "markdown",
   "metadata": {},
   "source": [
    "## Average Methods"
   ]
  },
  {
   "cell_type": "code",
   "execution_count": 19,
   "metadata": {
    "collapsed": false
   },
   "outputs": [
    {
     "name": "stdout",
     "output_type": "stream",
     "text": [
      "[[ 1.    2.    0.25]\n",
      " [ 1.    3.    0.85]\n",
      " [ 1.    4.    0.51]\n",
      " [ 2.    3.    0.6 ]\n",
      " [ 2.    4.    0.35]\n",
      " [ 3.    4.    0.34]]\n",
      "\\e{\\begin{bmatrix} X_a & X_b & Dist \\\\  1. & 2. & 0.725\\\\  1. & 3. & 0.43\\\\  2. & 3. & 0.34\\\\\\end{bmatrix}}\n"
     ]
    }
   ],
   "source": [
    "x1=[0.1,0.5];x2=[0.35,0.75];x3=[0.28,1.35];x4=[0,1.01]\n",
    "\n",
    "XAll=[x1,x2,x3,x4]\n",
    "XBlack=[x1,x2]\n",
    "XRed=x3\n",
    "XBlue=x4\n",
    "\n",
    "XComp=[]\n",
    "a=0;\n",
    "for xa in XAll:\n",
    "    a+=1;b=0\n",
    "    for xb in XAll:\n",
    "        b+=1\n",
    "        if xa!=xb and b>a:\n",
    "            XComp.append([a,b,LInf(xa,xb)])\n",
    "XComp=np.array(XComp)     \n",
    "\n",
    "print XComp\n",
    "\n",
    "BlackBlue=(XComp[2,2]+XComp[4,2])/2.\n",
    "BlackRed=(XComp[1,2]+XComp[3,2])/2.\n",
    "\n",
    "PXComp=np.array([[1,2,BlackRed],[1,3,BlackBlue],[2,3,XComp[5,2]]])\n",
    "print bbmatrix(PXComp)"
   ]
  },
  {
   "cell_type": "markdown",
   "metadata": {},
   "source": [
    "## Drawing Dendograms"
   ]
  },
  {
   "cell_type": "code",
   "execution_count": 102,
   "metadata": {
    "collapsed": true
   },
   "outputs": [],
   "source": [
    "from scipy.cluster import hierarchy\n",
    "import matplotlib.pyplot as plt"
   ]
  },
  {
   "cell_type": "code",
   "execution_count": 103,
   "metadata": {
    "collapsed": false
   },
   "outputs": [
    {
     "data": {
      "image/png": "[encoded data removed]",
      "text/plain": [
       "<matplotlib.figure.Figure at 0x1180bf090>"
      ]
     },
     "metadata": {},
     "output_type": "display_data"
    }
   ],
   "source": [
    "ytdist = np.array([662., 877., 255., 412., 996., 295., 468., 268.,\n",
    "                   400., 754., 564., 138., 219., 869., 669.])\n",
    "Z = hierarchy.linkage(ytdist, 'single')\n",
    "plt.figure()\n",
    "dn = hierarchy.dendrogram(Z)"
   ]
  },
  {
   "cell_type": "code",
   "execution_count": null,
   "metadata": {
    "collapsed": true
   },
   "outputs": [],
   "source": []
  }
 ],
 "metadata": {
  "kernelspec": {
   "display_name": "Python 2",
   "language": "python",
   "name": "python2"
  },
  "language_info": {
   "codemirror_mode": {
    "name": "ipython",
    "version": 2
   },
   "file_extension": ".py",
   "mimetype": "text/x-python",
   "name": "python",
   "nbconvert_exporter": "python",
   "pygments_lexer": "ipython2",
   "version": "2.7.13"
  }
 },
 "nbformat": 4,
 "nbformat_minor": 0
}
